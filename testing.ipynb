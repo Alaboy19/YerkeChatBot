{
 "cells": [
  {
   "cell_type": "code",
   "execution_count": null,
   "metadata": {},
   "outputs": [],
   "source": [
    "import pickle \n",
    "\n",
    "with open(\"final_list_yerke_vector_db.pkl\", \"rb\") as f:\n",
    "    mylist = pickle.load(f)\n",
    "    \n",
    "mylist[:3]"
   ]
  },
  {
   "cell_type": "code",
   "execution_count": null,
   "metadata": {},
   "outputs": [],
   "source": [
    "from fastembed import TextEmbedding\n",
    "from qdrant_client import QdrantClient, models\n",
    "\n",
    "model = TextEmbedding(\"nomic-ai/nomic-embed-text-v1\")\n",
    "\n",
    "output = model.embed([\"Qdrant is the best vector database!\"])\n",
    "\n",
    "client = QdrantClient()\n",
    "client.upsert(\n",
    "    collection_name=\"my-collection\",\n",
    "    points=models.Batch(\n",
    "        ids=[1],\n",
    "        vectors=[embeddings.tolist() for embeddings in output],\n",
    "    ),\n",
    ")"
   ]
  },
  {
   "cell_type": "code",
   "execution_count": null,
   "metadata": {},
   "outputs": [],
   "source": [
    "from client import QdrantClient\n",
    "\n",
    "client = QdrantClient(url=\"http://localhost:6333\")"
   ]
  },
  {
   "cell_type": "code",
   "execution_count": null,
   "metadata": {},
   "outputs": [],
   "source": []
  }
 ],
 "metadata": {
  "language_info": {
   "name": "python"
  }
 },
 "nbformat": 4,
 "nbformat_minor": 2
}
