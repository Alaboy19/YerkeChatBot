{
 "cells": [
  {
   "cell_type": "code",
   "execution_count": 1,
   "id": "191b656c-d4e4-4a50-baae-a9a4a3386b71",
   "metadata": {
    "editable": true,
    "slideshow": {
     "slide_type": ""
    },
    "tags": []
   },
   "outputs": [],
   "source": [
    "import pickle \n",
    "\n",
    "with open(\"final_list_yerke_vector_db.pkl\", \"rb\") as f:\n",
    "    mylist = pickle.load(f)\n",
    "    \n"
   ]
  },
  {
   "cell_type": "code",
   "execution_count": 4,
   "id": "b6853dcd-a3a6-43c8-b090-8ca86ef2654d",
   "metadata": {},
   "outputs": [],
   "source": [
    "from fastembed import TextEmbedding\n",
    "from qdrant_client import QdrantClient, models\n",
    "\n",
    "client = QdrantClient(url=\"http://localhost:6333\")"
   ]
  },
  {
   "cell_type": "code",
   "execution_count": 6,
   "id": "2ed9b2ec-2cc2-4692-ba13-993d3481b528",
   "metadata": {},
   "outputs": [
    {
     "data": {
      "text/plain": [
       "True"
      ]
     },
     "execution_count": 6,
     "metadata": {},
     "output_type": "execute_result"
    }
   ],
   "source": [
    "from qdrant_client.models import Distance, VectorParams\n",
    "\n",
    "\n",
    "collection_name = \"YerkeChatBot\"\n",
    "\n",
    "\n",
    "\n",
    "if client.collection_exists(collection_name=f\"{collection_name}\"):\n",
    "    client.delete_collection(collection_name=f\"{collection_name}\")\n",
    "client.create_collection(\n",
    "    collection_name=f\"{collection_name}\",\n",
    "    vectors_config=VectorParams(size=768, distance=Distance.COSINE),\n",
    ")"
   ]
  },
  {
   "cell_type": "code",
   "execution_count": 7,
   "id": "d8fbb5b2-04a6-4adf-94cc-fc8aa818e3e0",
   "metadata": {},
   "outputs": [
    {
     "data": {
      "application/vnd.jupyter.widget-view+json": {
       "model_id": "590658dbf1294a0d84741b431e0fdb35",
       "version_major": 2,
       "version_minor": 0
      },
      "text/plain": [
       "Fetching 5 files:   0%|          | 0/5 [00:00<?, ?it/s]"
      ]
     },
     "metadata": {},
     "output_type": "display_data"
    },
    {
     "data": {
      "application/vnd.jupyter.widget-view+json": {
       "model_id": "4921abc3813143ddb8435b3bf021518b",
       "version_major": 2,
       "version_minor": 0
      },
      "text/plain": [
       "tokenizer.json:   0%|          | 0.00/711k [00:00<?, ?B/s]"
      ]
     },
     "metadata": {},
     "output_type": "display_data"
    },
    {
     "data": {
      "application/vnd.jupyter.widget-view+json": {
       "model_id": "f2ab733cb4b64648acf8405b2d0c0745",
       "version_major": 2,
       "version_minor": 0
      },
      "text/plain": [
       "tokenizer_config.json:   0%|          | 0.00/1.19k [00:00<?, ?B/s]"
      ]
     },
     "metadata": {},
     "output_type": "display_data"
    },
    {
     "data": {
      "application/vnd.jupyter.widget-view+json": {
       "model_id": "d0c6da95118d4195bb91d1eeb3b9e99e",
       "version_major": 2,
       "version_minor": 0
      },
      "text/plain": [
       "special_tokens_map.json:   0%|          | 0.00/125 [00:00<?, ?B/s]"
      ]
     },
     "metadata": {},
     "output_type": "display_data"
    },
    {
     "data": {
      "application/vnd.jupyter.widget-view+json": {
       "model_id": "5db4ca1ccd3c45d1ada0f00fac5606d4",
       "version_major": 2,
       "version_minor": 0
      },
      "text/plain": [
       "config.json:   0%|          | 0.00/2.03k [00:00<?, ?B/s]"
      ]
     },
     "metadata": {},
     "output_type": "display_data"
    },
    {
     "data": {
      "application/vnd.jupyter.widget-view+json": {
       "model_id": "cc2a8e7f9bac4224b43d5c74da38d7af",
       "version_major": 2,
       "version_minor": 0
      },
      "text/plain": [
       "model.onnx:   0%|          | 0.00/548M [00:00<?, ?B/s]"
      ]
     },
     "metadata": {},
     "output_type": "display_data"
    }
   ],
   "source": [
    "model = TextEmbedding(\"nomic-ai/nomic-embed-text-v1\")\n",
    "\n",
    "#output = model.embed([\"Qdrant is the best vector database!\"])"
   ]
  },
  {
   "cell_type": "code",
   "execution_count": 8,
   "id": "9da5b811-4ca2-4bbe-b8e5-1aa15ac7b9c8",
   "metadata": {},
   "outputs": [
    {
     "data": {
      "text/plain": [
       "{'propositions': ['The speaker advises the listener to start with ETFs.',\n",
       "  'You may look for ETFs that are reliable and pay good dividends.',\n",
       "  'etfdvd.com is a website where ETF analysis can be performed.',\n",
       "  'An ETF can deal exclusively in bonds.',\n",
       "  'An ETF can be engaged in real estate.',\n",
       "  'The expense ratio refers to the annual commission.',\n",
       "  'A dividend percentage per year that is higher than 13% is not considered trustworthy.',\n",
       "  'A dividend percentage per year below 6% is not considered high.',\n",
       "  'The price of an ETF can be below 100 dollars.',\n",
       "  'The price of an ETF can also be considered below 200 dollars if 200 dollars are withdrawn every month.',\n",
       "  'An ETF priced at 50 dollars is an option if available.',\n",
       "  'When searching for ETFs, consider those with a share price of exactly 100 dollars as an example.',\n",
       "  'The date of the dividend payout is important when seeking monthly dividends.',\n",
       "  'The risk standard deviation is a consideration in ETF analysis.',\n",
       "  'The P/E ratio should range from 0 to 26.',\n",
       "  'The beta coefficient should be between 0 to 2.',\n",
       "  'ETFs can be evaluated based on the mentioned metrics.',\n",
       "  'A search based on these metrics will yield a full page of ETF options.',\n",
       "  'The reliability of ETFs, such as those offered by JPMorgan, can be considered.',\n",
       "  'iShares is generally considered a fine option when looking for ETFs.',\n",
       "  'The dividends of ETFs can be examined.',\n",
       "  'An example is given where the total dividend yield is 7%, which is considered about normal.',\n",
       "  'The semi-annually stock pays dividends twice a year.',\n",
       "  'It may be convenient to consider the semi-annually stock as an example.',\n",
       "  'The focus is not on the Return, but on the dividend of the semi-annually stock.',\n",
       "  'Dividends of the semi-annually stock can be considered very high or very low.',\n",
       "  'REM is an example of a stock with very high dividends.',\n",
       "  'REM pays dividends 4 times a year.',\n",
       "  'REM has an 11% dividend yield.',\n",
       "  'An example of a dividend payment is 6 dollars a year.',\n",
       "  'A dividend payment of 2 dollars will be given by the stocks mentioned.',\n",
       "  'One can create multiple lists to strategize for obtaining dividends.',\n",
       "  'It is possible to live solely on dividends from certain stocks.',\n",
       "  'Nobl provides dividends four times a year.',\n",
       "  'SPY, also known as SPDR high dividend, is another investment option.',\n",
       "  'SPDR is known for providing good dividends.',\n",
       "  'SPYD offers a dividend yield of about 6-7%.',\n",
       "  'WKLY provides a dividend every week.',\n",
       "  'The broadcaster advises that after filtering, one can choose a stock that gives a dividend.',\n",
       "  'A viewer inquires how to know if a dividend has been deposited into the brokerage account.',\n",
       "  \"The broadcaster states that one's money will simply increase with a dividend deposit.\",\n",
       "  'Shares will be received for a certain amount every month.'],\n",
       " 'title': 'Investing in ETFs & Dividend-Paying Stocks',\n",
       " 'summary': 'This chunk offers detailed guidance on evaluating and investing in ETFs and dividend-paying stocks, including analysis techniques, selection criteria, examples of specific funds and stocks, and strategies for income generation through dividends.'}"
      ]
     },
     "execution_count": 8,
     "metadata": {},
     "output_type": "execute_result"
    }
   ],
   "source": [
    "mylist[0]"
   ]
  },
  {
   "cell_type": "code",
   "execution_count": 9,
   "id": "6cd5cacb-e8c5-4104-8835-2b9e206dc046",
   "metadata": {},
   "outputs": [
    {
     "ename": "TypeError",
     "evalue": "unsupported operand type(s) for +: 'generator' and 'generator'",
     "output_type": "error",
     "traceback": [
      "\u001b[0;31m---------------------------------------------------------------------------\u001b[0m",
      "\u001b[0;31mTypeError\u001b[0m                                 Traceback (most recent call last)",
      "Cell \u001b[0;32mIn[9], line 7\u001b[0m\n\u001b[1;32m      5\u001b[0m summary \u001b[38;5;241m=\u001b[39m eachList[\u001b[38;5;124m'\u001b[39m\u001b[38;5;124msummary\u001b[39m\u001b[38;5;124m'\u001b[39m]\n\u001b[1;32m      6\u001b[0m context \u001b[38;5;241m=\u001b[39m eachList[\u001b[38;5;124m\"\u001b[39m\u001b[38;5;124mpropositions\u001b[39m\u001b[38;5;124m\"\u001b[39m]\n\u001b[0;32m----> 7\u001b[0m myvector \u001b[38;5;241m=\u001b[39m \u001b[43mmodel\u001b[49m\u001b[38;5;241;43m.\u001b[39;49m\u001b[43membed\u001b[49m\u001b[43m(\u001b[49m\u001b[43m[\u001b[49m\u001b[43mtitle\u001b[49m\u001b[43m]\u001b[49m\u001b[43m)\u001b[49m\u001b[43m \u001b[49m\u001b[38;5;241;43m+\u001b[39;49m\u001b[43m \u001b[49m\u001b[43mmodel\u001b[49m\u001b[38;5;241;43m.\u001b[39;49m\u001b[43membed\u001b[49m\u001b[43m(\u001b[49m\u001b[43m[\u001b[49m\u001b[43msummary\u001b[49m\u001b[43m]\u001b[49m\u001b[43m)\u001b[49m\n\u001b[1;32m      8\u001b[0m item \u001b[38;5;241m=\u001b[39m PointStruct(\u001b[38;5;28mid\u001b[39m\u001b[38;5;241m=\u001b[39midx, vector \u001b[38;5;241m=\u001b[39m myvector, payload\u001b[38;5;241m=\u001b[39m{\u001b[38;5;124m\"\u001b[39m\u001b[38;5;124mcontext\u001b[39m\u001b[38;5;124m\"\u001b[39m: context})\n\u001b[1;32m      9\u001b[0m mypoints\u001b[38;5;241m.\u001b[39mappend(item)\n",
      "\u001b[0;31mTypeError\u001b[0m: unsupported operand type(s) for +: 'generator' and 'generator'"
     ]
    }
   ],
   "source": [
    "from qdrant_client.models import PointStruct\n",
    "import numpy as np \n",
    "mypoints = [] \n",
    "for idx, eachList in enumerate(mylist):\n",
    "    title = eachList['title']\n",
    "    summary = eachList['summary']\n",
    "    context = eachList[\"propositions\"]\n",
    "    embedding1 = next(embedding_model.embed([title]))\n",
    "    embedding2 = next(embedding_model.embed([summary]))\n",
    "    myvector = np.add(embedding1, embedding2)\n",
    "    item = PointStruct(id=idx, vector = myvector.tolist(), payload={\"context\": context})\n",
    "    mypoints.append(item)\n",
    "\n",
    "\n",
    "\n",
    "\n",
    "summed_embedding = np.add(embedding1, embedding2)\n",
    "    "
   ]
  },
  {
   "cell_type": "code",
   "execution_count": null,
   "id": "e9171aca-f76d-4eff-8cec-fb3feaa65f04",
   "metadata": {},
   "outputs": [],
   "source": [
    "from qdrant_client.models import PointStruct\n",
    "\n",
    "operation_info = client.upsert(\n",
    "    collection_name=f\"{collection_name}\",\n",
    "    wait=True,\n",
    "    points=mypoints\n",
    ")\n",
    "\n",
    "print(operation_info)"
   ]
  }
 ],
 "metadata": {
  "kernelspec": {
   "display_name": "Python 3 (ipykernel)",
   "language": "python",
   "name": "python3"
  },
  "language_info": {
   "codemirror_mode": {
    "name": "ipython",
    "version": 3
   },
   "file_extension": ".py",
   "mimetype": "text/x-python",
   "name": "python",
   "nbconvert_exporter": "python",
   "pygments_lexer": "ipython3",
   "version": "3.10.13"
  }
 },
 "nbformat": 4,
 "nbformat_minor": 5
}
