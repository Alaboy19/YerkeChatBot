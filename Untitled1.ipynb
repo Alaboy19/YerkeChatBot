{
 "cells": [
  {
   "cell_type": "code",
   "execution_count": 1,
   "id": "191b656c-d4e4-4a50-baae-a9a4a3386b71",
   "metadata": {
    "editable": true,
    "slideshow": {
     "slide_type": ""
    },
    "tags": []
   },
   "outputs": [],
   "source": [
    "import pickle \n",
    "\n",
    "with open(\"final_list_yerke_vector_db.pkl\", \"rb\") as f:\n",
    "    mylist = pickle.load(f)\n",
    "    \n"
   ]
  },
  {
   "cell_type": "code",
   "execution_count": 23,
   "id": "b6853dcd-a3a6-43c8-b090-8ca86ef2654d",
   "metadata": {},
   "outputs": [],
   "source": [
    "from fastembed import TextEmbedding\n",
    "from qdrant_client import QdrantClient, models\n",
    "\n",
    "Qclient = QdrantClient(url=\"http://localhost:6333\")"
   ]
  },
  {
   "cell_type": "code",
   "execution_count": 24,
   "id": "2ed9b2ec-2cc2-4692-ba13-993d3481b528",
   "metadata": {},
   "outputs": [
    {
     "data": {
      "text/plain": [
       "True"
      ]
     },
     "execution_count": 24,
     "metadata": {},
     "output_type": "execute_result"
    }
   ],
   "source": [
    "from qdrant_client.models import Distance, VectorParams\n",
    "\n",
    "\n",
    "collection_name = \"YerkeChatBot\"\n",
    "\n",
    "\n",
    "\n",
    "if Qclient.collection_exists(collection_name=f\"{collection_name}\"):\n",
    "    Qclient.delete_collection(collection_name=f\"{collection_name}\")\n",
    "Qclient.create_collection(\n",
    "    collection_name=f\"{collection_name}\",\n",
    "    vectors_config=VectorParams(size=768, distance=Distance.COSINE),\n",
    ")"
   ]
  },
  {
   "cell_type": "code",
   "execution_count": 25,
   "id": "d8fbb5b2-04a6-4adf-94cc-fc8aa818e3e0",
   "metadata": {},
   "outputs": [
    {
     "data": {
      "application/vnd.jupyter.widget-view+json": {
       "model_id": "803043679e2f4590923b395e2d4571d3",
       "version_major": 2,
       "version_minor": 0
      },
      "text/plain": [
       "Fetching 5 files:   0%|          | 0/5 [00:00<?, ?it/s]"
      ]
     },
     "metadata": {},
     "output_type": "display_data"
    }
   ],
   "source": [
    "model = TextEmbedding(\"nomic-ai/nomic-embed-text-v1\")\n",
    "\n",
    "#output = model.embed([\"Qdrant is the best vector database!\"])"
   ]
  },
  {
   "cell_type": "code",
   "execution_count": 27,
   "id": "6cd5cacb-e8c5-4104-8835-2b9e206dc046",
   "metadata": {},
   "outputs": [
    {
     "name": "stderr",
     "output_type": "stream",
     "text": [
      "685it [00:39, 17.46it/s]\n"
     ]
    }
   ],
   "source": [
    "from qdrant_client.models import PointStruct\n",
    "import numpy as np \n",
    "from tqdm import tqdm \n",
    "mypoints = [] \n",
    "for idx, eachList in tqdm(enumerate(mylist)):\n",
    "    title = eachList['title']\n",
    "    summary = eachList['summary']\n",
    "    context = eachList[\"propositions\"]\n",
    "    embedding1 = next(model.embed([title]))\n",
    "    embedding2 = next(model.embed([summary]))\n",
    "    myvector = np.add(embedding1, embedding2)\n",
    "    item = PointStruct(id=idx, vector = myvector.tolist(), payload={\n",
    "        \"summary\": summary,\n",
    "        \"context\": context})\n",
    "    mypoints.append(item)\n",
    "\n",
    "\n",
    "\n",
    "\n",
    "\n",
    "    "
   ]
  },
  {
   "cell_type": "code",
   "execution_count": 29,
   "id": "e9171aca-f76d-4eff-8cec-fb3feaa65f04",
   "metadata": {},
   "outputs": [
    {
     "name": "stdout",
     "output_type": "stream",
     "text": [
      "operation_id=1 status=<UpdateStatus.COMPLETED: 'completed'>\n"
     ]
    }
   ],
   "source": [
    "from qdrant_client.models import PointStruct\n",
    "\n",
    "operation_info = Qclient.upsert(\n",
    "    collection_name=f\"{collection_name}\",\n",
    "    wait=True,\n",
    "    points=mypoints\n",
    ")\n",
    "\n",
    "print(operation_info)"
   ]
  },
  {
   "cell_type": "code",
   "execution_count": 59,
   "id": "a1c3c6c3-9af6-4de4-be7d-3d18a2f10212",
   "metadata": {},
   "outputs": [],
   "source": [
    "query = \"What is the final project is about?\"\n",
    "query_vector = next(model.embed(query))\n",
    "\n",
    "search_result = Qclient.search(\n",
    "    collection_name=f\"{collection_name}\",\n",
    "    query_vector=output.tolist(), limit=1\n",
    ")"
   ]
  },
  {
   "cell_type": "code",
   "execution_count": 60,
   "id": "731a3462-cc7e-41d3-8d0e-7904d90a0e10",
   "metadata": {},
   "outputs": [],
   "source": [
    "context = \" \".join(search_result[0].payload[\"context\"])"
   ]
  },
  {
   "cell_type": "code",
   "execution_count": 61,
   "id": "7fb4a025-4a5d-44d4-8ae7-e6f5444bc211",
   "metadata": {},
   "outputs": [
    {
     "data": {
      "text/plain": [
       "\"The first rule is to open the next page now. Let's establish some rules for convenience. The first rule is to address each other as 'you'. When speaking to each other, use 'you' regardless of age. By using 'you', respect and culture are expressed. The second rule mandates participation in live broadcasts. Active participation is required in the live broadcasts for asking questions and discussions. The third rule depends on the relationship with the curator. Respect the curator's time by contacting between 12:00 and 22:00. Avoid contacting the curator on Saturdays and Sundays to respect their personal time. Contact through Discord for communication with the author. The author will try to answer messages on Discord once a day. The curator may convey frequently asked questions to the author for communication. The author may not always be available on Instagram or WhatsApp due to limited time. If you have any questions, write them down. We don't compress any question, it's mandatory. The 6th rule is not to know this to each other. It's easy to ask a question. We talk to each other as you, if we ask each other any question, we try to help as much as possible. There will be a lot of development from Discord, from our community, from the air, and more. Be sure to follow these 6 rules. Choose whether to 'allow' or 'do not allow' before sending the notification. Send the screenshot to the Discord chat named 'homework'. You can also share the screenshot as a comment under this lesson. Groups can be formed in Discord chat or through communication with the curator. If there are issues with forming groups, participants can contact the curator for assistance. Participants are encouraged to share and discuss their perspectives and expenses within the group. Adilzhan is a curator in the Discord chat. After completing the purchases, a screenshot needs to be shared on Discord. Questions about transactions not being processed outside the specified hours are discouraged. Students can seek help from peers, instructors, or online resources like Discord for understanding and completing the homework. You should send it only to your curators, Dinara, and not to the public chat.\""
      ]
     },
     "execution_count": 61,
     "metadata": {},
     "output_type": "execute_result"
    }
   ],
   "source": [
    "context"
   ]
  },
  {
   "cell_type": "code",
   "execution_count": 62,
   "id": "f341f821-3e88-45db-a160-e10684e3f071",
   "metadata": {},
   "outputs": [],
   "source": [
    "from openai import OpenAI\n",
    "\n",
    "client = OpenAI(\n",
    "    base_url='http://localhost:11434/v1/',\n",
    "    api_key='ollama',\n",
    ")"
   ]
  },
  {
   "cell_type": "code",
   "execution_count": 63,
   "id": "8f4c30c3-51af-4266-aea9-d7d7d2d5fb77",
   "metadata": {},
   "outputs": [],
   "source": [
    "prompt_template = \"\"\"\n",
    "Answer the QUESTION based on the CONTEXT.\n",
    "Use only the facts from the CONTEXT when answering the QUESTION.\n",
    "\n",
    "QUESTION: {query}\n",
    "\n",
    "CONTEXT: \n",
    "{context}\n",
    "\"\"\".strip()\n",
    "context = \"\\n\".join(search_result[0].payload[\"context\"])\n",
    "prompt = prompt_template.format(query=query, context=context).strip()\n",
    "\n",
    "def llm(prompt):\n",
    "    response = client.chat.completions.create(\n",
    "        model='phi3',\n",
    "        messages=[{\"role\": \"user\", \"content\": prompt}]\n",
    "    )\n",
    "    \n",
    "    return response.choices[0].message.content"
   ]
  },
  {
   "cell_type": "code",
   "execution_count": 64,
   "id": "104c3bae-3930-4b74-a056-529a3c124c01",
   "metadata": {},
   "outputs": [
    {
     "data": {
      "text/plain": [
       "\" The final project is about sharing a screenshot of completed purchases related to air travel development within their community on Discord after following specific rules regarding communication with curator Adilzhan and participating in live broadcasts for discussions. It also involves understanding expenses by seeking help from peers, instructors, or online resources like the author's personal page on Instagram as well as through direct contact if they cannot find answers therein Discord chat named 'homework'. However, students should note to not share this outside of their group and avoid posting queries about transaction times that fall outside specified hours.\""
      ]
     },
     "execution_count": 64,
     "metadata": {},
     "output_type": "execute_result"
    }
   ],
   "source": [
    "llm(prompt)"
   ]
  },
  {
   "cell_type": "code",
   "execution_count": 1,
   "id": "3b05f0b4-1378-4889-92d8-4584c3af0a7b",
   "metadata": {},
   "outputs": [
    {
     "ename": "NameError",
     "evalue": "name 'Qclient' is not defined",
     "output_type": "error",
     "traceback": [
      "\u001b[0;31m---------------------------------------------------------------------------\u001b[0m",
      "\u001b[0;31mNameError\u001b[0m                                 Traceback (most recent call last)",
      "Cell \u001b[0;32mIn[1], line 5\u001b[0m\n\u001b[1;32m      1\u001b[0m collection_name \u001b[38;5;241m=\u001b[39m \u001b[38;5;124m\"\u001b[39m\u001b[38;5;124mYerkeChatBot\u001b[39m\u001b[38;5;124m\"\u001b[39m\n\u001b[0;32m----> 5\u001b[0m \u001b[38;5;28;01mif\u001b[39;00m \u001b[43mQclient\u001b[49m\u001b[38;5;241m.\u001b[39mcollection_exists(collection_name\u001b[38;5;241m=\u001b[39m\u001b[38;5;124mf\u001b[39m\u001b[38;5;124m\"\u001b[39m\u001b[38;5;132;01m{\u001b[39;00mcollection_name\u001b[38;5;132;01m}\u001b[39;00m\u001b[38;5;124m\"\u001b[39m):\n\u001b[1;32m      6\u001b[0m     Qclient\u001b[38;5;241m.\u001b[39mdelete_collection(collection_name\u001b[38;5;241m=\u001b[39m\u001b[38;5;124mf\u001b[39m\u001b[38;5;124m\"\u001b[39m\u001b[38;5;132;01m{\u001b[39;00mcollection_name\u001b[38;5;132;01m}\u001b[39;00m\u001b[38;5;124m\"\u001b[39m)\n",
      "\u001b[0;31mNameError\u001b[0m: name 'Qclient' is not defined"
     ]
    }
   ],
   "source": [
    "collection_name = \"YerkeChatBot\"\n",
    "\n",
    "\n",
    "\n",
    "if Qclient.collection_exists(collection_name=f\"{collection_name}\"):\n",
    "    Qclient.delete_collection(collection_name=f\"{collection_name}\")"
   ]
  },
  {
   "cell_type": "code",
   "execution_count": null,
   "id": "0b1fdd7c-bad3-4153-a245-2c10c504bba4",
   "metadata": {},
   "outputs": [],
   "source": []
  }
 ],
 "metadata": {
  "kernelspec": {
   "display_name": "Python 3 (ipykernel)",
   "language": "python",
   "name": "python3"
  },
  "language_info": {
   "codemirror_mode": {
    "name": "ipython",
    "version": 3
   },
   "file_extension": ".py",
   "mimetype": "text/x-python",
   "name": "python",
   "nbconvert_exporter": "python",
   "pygments_lexer": "ipython3",
   "version": "3.10.13"
  }
 },
 "nbformat": 4,
 "nbformat_minor": 5
}
